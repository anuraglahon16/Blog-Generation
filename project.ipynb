{
 "cells": [
  {
   "cell_type": "markdown",
   "id": "124e5672",
   "metadata": {},
   "source": [
    "# Custom Chatbot Project"
   ]
  },
  {
   "cell_type": "markdown",
   "id": "2a4a94b3",
   "metadata": {},
   "source": [
    "##### I've selected the \"nyc_food_scrap_drop_off_sites.csv\" dataset for my project, motivated by the growing need for eco-friendly living practices, especially in bustling urban environments like New York City. This dataset will be used to power a chatbot designed to help people easily find local food scrap drop-off locations, know when they're open, and understand what kinds of materials they can bring. Not only is this super handy, but it also supports environmental efforts by promoting the recycling of organic waste. New York City is big on sustainability, and this chatbot plays a crucial role in getting the community involved in eco-friendly initiatives. It's a perfect fit for what I'm trying to "
   ]
  },
  {
   "cell_type": "markdown",
   "id": "a63d4c5f",
   "metadata": {},
   "source": [
    "## Data Wrangling\n",
    "\n",
    "TODO: In the cells below, load your chosen dataset into a `pandas` dataframe with a column named `\"text\"`. This column should contain all of your text data, separated into at least 20 rows."
   ]
  },
  {
   "cell_type": "code",
   "execution_count": 1,
   "id": "c69b83a1",
   "metadata": {},
   "outputs": [],
   "source": [
    "import pandas as pd"
   ]
  },
  {
   "cell_type": "code",
   "execution_count": 2,
   "id": "0a595980",
   "metadata": {},
   "outputs": [],
   "source": [
    "data = pd.read_csv('data/nyc_food_scrap_drop_off_sites.csv')"
   ]
  },
  {
   "cell_type": "code",
   "execution_count": 3,
   "id": "f21e1c5e",
   "metadata": {},
   "outputs": [
    {
     "data": {
      "text/plain": [
       "Index(['Unnamed: 0', 'borough', 'ntaname', 'food_scrap_drop_off_site',\n",
       "       'location', 'hosted_by', 'open_months', 'operation_day_hours',\n",
       "       'website', 'borocd', 'councildist', 'latitude', 'longitude', 'precinct',\n",
       "       'object_id', 'location_point', ':@computed_region_yeji_bk3q',\n",
       "       ':@computed_region_92fq_4b7q', ':@computed_region_sbqj_enih',\n",
       "       ':@computed_region_efsh_h5xi', ':@computed_region_f5dn_yrer', 'notes',\n",
       "       'ct2010', 'bbl', 'bin'],\n",
       "      dtype='object')"
      ]
     },
     "execution_count": 3,
     "metadata": {},
     "output_type": "execute_result"
    }
   ],
   "source": [
    "data.columns"
   ]
  },
  {
   "cell_type": "code",
   "execution_count": 4,
   "id": "acb3a9fd",
   "metadata": {},
   "outputs": [
    {
     "name": "stdout",
     "output_type": "stream",
     "text": [
      "                                                text\n",
      "0  Drop-off site: South Beach. Location: 21 Robin...\n",
      "1  Drop-off site: SE Corner of Broadway & Academy...\n",
      "2  Drop-off site: Old Stone House Brooklyn. Locat...\n",
      "3  Drop-off site: SE Corner of Pleasant Avenue & ...\n",
      "4  Drop-off site: Malcolm X FSDO. Location: 111-2...\n"
     ]
    }
   ],
   "source": [
    "# handling missing values and concatenate information\n",
    "def create_text_column(row):\n",
    "    drop_off_site = row['food_scrap_drop_off_site'] if pd.notnull(row['food_scrap_drop_off_site']) else 'Unknown drop-off site'\n",
    "    location = row['location'] if pd.notnull(row['location']) else 'Unknown location'\n",
    "    borough = row['borough'] if pd.notnull(row['borough']) else 'Unknown borough'\n",
    "    hours = row['operation_day_hours'] if pd.notnull(row['operation_day_hours']) else 'Check website for hours'\n",
    "    notes = row['notes'] if pd.notnull(row['notes']) else 'No additional notes available'\n",
    "    website = row['website'] if pd.notnull(row['website']) else 'No website provided'\n",
    "    \n",
    "    # Concatenate the information into a single text string\n",
    "    text = f\"Drop-off site: {drop_off_site}. Location: {location}, {borough}. Hours: {hours}. {notes}. For more info: {website}.\"\n",
    "    return text\n",
    "\n",
    "# DataFrame\n",
    "data['text'] = data.apply(create_text_column, axis=1)\n",
    "\n",
    "# First 5 rows\n",
    "print(data[['text']].head())\n"
   ]
  },
  {
   "cell_type": "code",
   "execution_count": 5,
   "id": "142ab3bb",
   "metadata": {},
   "outputs": [
    {
     "data": {
      "text/html": [
       "<div>\n",
       "<style scoped>\n",
       "    .dataframe tbody tr th:only-of-type {\n",
       "        vertical-align: middle;\n",
       "    }\n",
       "\n",
       "    .dataframe tbody tr th {\n",
       "        vertical-align: top;\n",
       "    }\n",
       "\n",
       "    .dataframe thead th {\n",
       "        text-align: right;\n",
       "    }\n",
       "</style>\n",
       "<table border=\"1\" class=\"dataframe\">\n",
       "  <thead>\n",
       "    <tr style=\"text-align: right;\">\n",
       "      <th></th>\n",
       "      <th>Unnamed: 0</th>\n",
       "      <th>borough</th>\n",
       "      <th>ntaname</th>\n",
       "      <th>food_scrap_drop_off_site</th>\n",
       "      <th>location</th>\n",
       "      <th>hosted_by</th>\n",
       "      <th>open_months</th>\n",
       "      <th>operation_day_hours</th>\n",
       "      <th>website</th>\n",
       "      <th>borocd</th>\n",
       "      <th>...</th>\n",
       "      <th>:@computed_region_yeji_bk3q</th>\n",
       "      <th>:@computed_region_92fq_4b7q</th>\n",
       "      <th>:@computed_region_sbqj_enih</th>\n",
       "      <th>:@computed_region_efsh_h5xi</th>\n",
       "      <th>:@computed_region_f5dn_yrer</th>\n",
       "      <th>notes</th>\n",
       "      <th>ct2010</th>\n",
       "      <th>bbl</th>\n",
       "      <th>bin</th>\n",
       "      <th>text</th>\n",
       "    </tr>\n",
       "  </thead>\n",
       "  <tbody>\n",
       "    <tr>\n",
       "      <th>0</th>\n",
       "      <td>0</td>\n",
       "      <td>Staten Island</td>\n",
       "      <td>Grasmere-Arrochar-South Beach-Dongan Hills</td>\n",
       "      <td>South Beach</td>\n",
       "      <td>21 Robin Road, Staten Island NY</td>\n",
       "      <td>Snug Harbor Youth</td>\n",
       "      <td>Year Round</td>\n",
       "      <td>Friday (Start Time: 1:30 PM - End Time:  4:30 PM)</td>\n",
       "      <td>snug-harbor.org</td>\n",
       "      <td>502</td>\n",
       "      <td>...</td>\n",
       "      <td>1.0</td>\n",
       "      <td>14.0</td>\n",
       "      <td>76.0</td>\n",
       "      <td>10692.0</td>\n",
       "      <td>30.0</td>\n",
       "      <td>NaN</td>\n",
       "      <td>NaN</td>\n",
       "      <td>NaN</td>\n",
       "      <td>NaN</td>\n",
       "      <td>Drop-off site: South Beach. Location: 21 Robin...</td>\n",
       "    </tr>\n",
       "    <tr>\n",
       "      <th>1</th>\n",
       "      <td>1</td>\n",
       "      <td>Manhattan</td>\n",
       "      <td>Inwood</td>\n",
       "      <td>SE Corner of Broadway &amp; Academy Street</td>\n",
       "      <td>NaN</td>\n",
       "      <td>Department of Sanitation</td>\n",
       "      <td>Year Round</td>\n",
       "      <td>24/7</td>\n",
       "      <td>www.nyc.gov/smartcomposting</td>\n",
       "      <td>112</td>\n",
       "      <td>...</td>\n",
       "      <td>NaN</td>\n",
       "      <td>NaN</td>\n",
       "      <td>NaN</td>\n",
       "      <td>NaN</td>\n",
       "      <td>NaN</td>\n",
       "      <td>Download the app to access bins. Accepts all f...</td>\n",
       "      <td>NaN</td>\n",
       "      <td>NaN</td>\n",
       "      <td>NaN</td>\n",
       "      <td>Drop-off site: SE Corner of Broadway &amp; Academy...</td>\n",
       "    </tr>\n",
       "    <tr>\n",
       "      <th>2</th>\n",
       "      <td>2</td>\n",
       "      <td>Brooklyn</td>\n",
       "      <td>Park Slope</td>\n",
       "      <td>Old Stone House Brooklyn</td>\n",
       "      <td>336 3rd St, Brooklyn, NY 11215</td>\n",
       "      <td>Old Stone House Brooklyn</td>\n",
       "      <td>Year Round</td>\n",
       "      <td>24/7 (Start Time: 24/7 - End Time:  24/7)</td>\n",
       "      <td>NaN</td>\n",
       "      <td>306</td>\n",
       "      <td>...</td>\n",
       "      <td>2.0</td>\n",
       "      <td>27.0</td>\n",
       "      <td>50.0</td>\n",
       "      <td>17617.0</td>\n",
       "      <td>14.0</td>\n",
       "      <td>NaN</td>\n",
       "      <td>NaN</td>\n",
       "      <td>NaN</td>\n",
       "      <td>NaN</td>\n",
       "      <td>Drop-off site: Old Stone House Brooklyn. Locat...</td>\n",
       "    </tr>\n",
       "    <tr>\n",
       "      <th>3</th>\n",
       "      <td>3</td>\n",
       "      <td>Manhattan</td>\n",
       "      <td>East Harlem (North)</td>\n",
       "      <td>SE Corner of Pleasant Avenue &amp; E 116 Street</td>\n",
       "      <td>NaN</td>\n",
       "      <td>Department of Sanitation</td>\n",
       "      <td>Year Round</td>\n",
       "      <td>24/7</td>\n",
       "      <td>www.nyc.gov/smartcomposting</td>\n",
       "      <td>111</td>\n",
       "      <td>...</td>\n",
       "      <td>NaN</td>\n",
       "      <td>NaN</td>\n",
       "      <td>NaN</td>\n",
       "      <td>NaN</td>\n",
       "      <td>NaN</td>\n",
       "      <td>Download the app to access bins. Accepts all f...</td>\n",
       "      <td>NaN</td>\n",
       "      <td>NaN</td>\n",
       "      <td>NaN</td>\n",
       "      <td>Drop-off site: SE Corner of Pleasant Avenue &amp; ...</td>\n",
       "    </tr>\n",
       "    <tr>\n",
       "      <th>4</th>\n",
       "      <td>4</td>\n",
       "      <td>Queens</td>\n",
       "      <td>Corona</td>\n",
       "      <td>Malcolm X FSDO</td>\n",
       "      <td>111-26 Northern Blvd, Flushing, NY 11368</td>\n",
       "      <td>NYC Compost Project Hosted by Big Reuse</td>\n",
       "      <td>Year Round</td>\n",
       "      <td>Tuesdays (Start Time: 12:00 PM - End Time:  2:...</td>\n",
       "      <td>NaN</td>\n",
       "      <td>404</td>\n",
       "      <td>...</td>\n",
       "      <td>3.0</td>\n",
       "      <td>21.0</td>\n",
       "      <td>68.0</td>\n",
       "      <td>14510.0</td>\n",
       "      <td>66.0</td>\n",
       "      <td>NaN</td>\n",
       "      <td>NaN</td>\n",
       "      <td>NaN</td>\n",
       "      <td>NaN</td>\n",
       "      <td>Drop-off site: Malcolm X FSDO. Location: 111-2...</td>\n",
       "    </tr>\n",
       "  </tbody>\n",
       "</table>\n",
       "<p>5 rows × 26 columns</p>\n",
       "</div>"
      ],
      "text/plain": [
       "   Unnamed: 0        borough                                     ntaname  \\\n",
       "0           0  Staten Island  Grasmere-Arrochar-South Beach-Dongan Hills   \n",
       "1           1      Manhattan                                      Inwood   \n",
       "2           2       Brooklyn                                  Park Slope   \n",
       "3           3      Manhattan                         East Harlem (North)   \n",
       "4           4         Queens                                      Corona   \n",
       "\n",
       "                      food_scrap_drop_off_site  \\\n",
       "0                                  South Beach   \n",
       "1       SE Corner of Broadway & Academy Street   \n",
       "2                     Old Stone House Brooklyn   \n",
       "3  SE Corner of Pleasant Avenue & E 116 Street   \n",
       "4                               Malcolm X FSDO   \n",
       "\n",
       "                                   location  \\\n",
       "0           21 Robin Road, Staten Island NY   \n",
       "1                                       NaN   \n",
       "2            336 3rd St, Brooklyn, NY 11215   \n",
       "3                                       NaN   \n",
       "4  111-26 Northern Blvd, Flushing, NY 11368   \n",
       "\n",
       "                                 hosted_by open_months  \\\n",
       "0                        Snug Harbor Youth  Year Round   \n",
       "1                 Department of Sanitation  Year Round   \n",
       "2                 Old Stone House Brooklyn  Year Round   \n",
       "3                 Department of Sanitation  Year Round   \n",
       "4  NYC Compost Project Hosted by Big Reuse  Year Round   \n",
       "\n",
       "                                 operation_day_hours  \\\n",
       "0  Friday (Start Time: 1:30 PM - End Time:  4:30 PM)   \n",
       "1                                               24/7   \n",
       "2          24/7 (Start Time: 24/7 - End Time:  24/7)   \n",
       "3                                               24/7   \n",
       "4  Tuesdays (Start Time: 12:00 PM - End Time:  2:...   \n",
       "\n",
       "                       website  borocd  ...  :@computed_region_yeji_bk3q  \\\n",
       "0              snug-harbor.org     502  ...                          1.0   \n",
       "1  www.nyc.gov/smartcomposting     112  ...                          NaN   \n",
       "2                          NaN     306  ...                          2.0   \n",
       "3  www.nyc.gov/smartcomposting     111  ...                          NaN   \n",
       "4                          NaN     404  ...                          3.0   \n",
       "\n",
       "   :@computed_region_92fq_4b7q  :@computed_region_sbqj_enih  \\\n",
       "0                         14.0                         76.0   \n",
       "1                          NaN                          NaN   \n",
       "2                         27.0                         50.0   \n",
       "3                          NaN                          NaN   \n",
       "4                         21.0                         68.0   \n",
       "\n",
       "   :@computed_region_efsh_h5xi  :@computed_region_f5dn_yrer  \\\n",
       "0                      10692.0                         30.0   \n",
       "1                          NaN                          NaN   \n",
       "2                      17617.0                         14.0   \n",
       "3                          NaN                          NaN   \n",
       "4                      14510.0                         66.0   \n",
       "\n",
       "                                               notes  ct2010  bbl  bin  \\\n",
       "0                                                NaN     NaN  NaN  NaN   \n",
       "1  Download the app to access bins. Accepts all f...     NaN  NaN  NaN   \n",
       "2                                                NaN     NaN  NaN  NaN   \n",
       "3  Download the app to access bins. Accepts all f...     NaN  NaN  NaN   \n",
       "4                                                NaN     NaN  NaN  NaN   \n",
       "\n",
       "                                                text  \n",
       "0  Drop-off site: South Beach. Location: 21 Robin...  \n",
       "1  Drop-off site: SE Corner of Broadway & Academy...  \n",
       "2  Drop-off site: Old Stone House Brooklyn. Locat...  \n",
       "3  Drop-off site: SE Corner of Pleasant Avenue & ...  \n",
       "4  Drop-off site: Malcolm X FSDO. Location: 111-2...  \n",
       "\n",
       "[5 rows x 26 columns]"
      ]
     },
     "execution_count": 5,
     "metadata": {},
     "output_type": "execute_result"
    }
   ],
   "source": [
    "data.head()"
   ]
  },
  {
   "cell_type": "markdown",
   "id": "ae769871",
   "metadata": {},
   "source": [
    "## Custom Query Completion\n",
    "\n",
    "TODO: In the cells below, compose a custom query using your chosen dataset and retrieve results from an OpenAI `Completion` model. You may copy and paste any useful code from the course materials."
   ]
  },
  {
   "cell_type": "code",
   "execution_count": 6,
   "id": "582f0656",
   "metadata": {},
   "outputs": [
    {
     "name": "stdout",
     "output_type": "stream",
     "text": [
      "Question: Where can I drop off my food scraps in Brooklyn?\n",
      "Response: You can drop off your food scraps at the following locations in Brooklyn: \n",
      "\n",
      "1. Old Stone House Brooklyn - 336 3rd St, Brooklyn, NY 11215\n",
      "2. NW Corner of Malcolm X Boulevard & Bainbridge Street (accessible through the app)\n",
      "3. Walt L Shamel Community Garden - 1097 Dean St, Brooklyn, NY 11216\n",
      "4. Underhill Avenue & Park Place (accessible through the app)\n",
      "5. Los Colibríes Community Garden - 219 34th Street, Brooklyn 11232\n"
     ]
    }
   ],
   "source": [
    "import openai\n",
    "\n",
    "openai.api_key = 'open api key'\n",
    "def basic_response(question):\n",
    "    openai.api_key = 'open api key'\n",
    "    response = openai.Completion.create(\n",
    "        engine=\"gpt-3.5-turbo-instruct\",  \n",
    "        prompt=question,\n",
    "        temperature=0.5,\n",
    "        max_tokens=150,  \n",
    "        top_p=1.0,\n",
    "        frequency_penalty=0.0,\n",
    "        presence_penalty=0.0\n",
    "    )\n",
    "    return response.choices[0].text.strip()\n",
    "\n",
    "   \n",
    "def get_chatbot_response(question, context):\n",
    "    openai.api_key = 'open api key'\n",
    "    response = openai.Completion.create(\n",
    "        engine=\"gpt-3.5-turbo-instruct\",  \n",
    "        prompt=f\"Question: {question}\\n\\nContext: {context}\\n\\nAnswer:\",\n",
    "        temperature=0.5,\n",
    "        max_tokens=150,\n",
    "        top_p=1.0,\n",
    "        frequency_penalty=0.0,\n",
    "        presence_penalty=0.0\n",
    "    )\n",
    "    return response.choices[0].text.strip()\n",
    "\n",
    "#drop-off sites in Brooklyn\n",
    "question = \"Where can I drop off my food scraps in Brooklyn?\"\n",
    "\n",
    "relevant_context = \" \".join(data[data['text'].str.contains(\"Brooklyn\", na=False)]['text'].tolist()[:5])\n",
    "# context is within the token limit\n",
    "limited_context = \" \".join(relevant_context.split()[:4000])  \n",
    "response = get_chatbot_response(question, limited_context)\n",
    "print(f\"Question: {question}\\nResponse: {response}\")"
   ]
  },
  {
   "cell_type": "code",
   "execution_count": null,
   "id": "8b6e1f75",
   "metadata": {},
   "outputs": [],
   "source": []
  },
  {
   "cell_type": "code",
   "execution_count": null,
   "id": "13f2dcd7",
   "metadata": {},
   "outputs": [],
   "source": []
  },
  {
   "cell_type": "code",
   "execution_count": null,
   "id": "c403f543",
   "metadata": {},
   "outputs": [],
   "source": []
  },
  {
   "cell_type": "code",
   "execution_count": null,
   "id": "74280b92",
   "metadata": {},
   "outputs": [],
   "source": []
  },
  {
   "cell_type": "markdown",
   "id": "1783f146",
   "metadata": {},
   "source": [
    "## Custom Performance Demonstration\n",
    "\n",
    "TODO: In the cells below, demonstrate the performance of your custom query using at least 2 questions. For each question, show the answer from a basic `Completion` model query as well as the answer from your custom query."
   ]
  },
  {
   "cell_type": "markdown",
   "id": "4f11fdc0",
   "metadata": {},
   "source": [
    "### Question 1"
   ]
  },
  {
   "cell_type": "code",
   "execution_count": 7,
   "id": "4901c850",
   "metadata": {
    "scrolled": true
   },
   "outputs": [
    {
     "name": "stdout",
     "output_type": "stream",
     "text": [
      "Question: What are the seasonal operation hours of drop-off sites?\n",
      "Response: The seasonal operation hours of drop-off sites vary depending on the location. Some sites, like the South Beach location in Staten Island, have specific hours on certain days (Fridays from 1:30 PM to 4:30 PM), while others, like the SE Corner of Broadway & Academy Street in Manhattan, are open 24/7. Some sites, like the Old Stone House Brooklyn location, have no specified hours and are open 24/7. It is best to check the specific location's website or contact them directly for more information on their seasonal operation hours.\n",
      "\n"
     ]
    }
   ],
   "source": [
    "# Seasonal operation hours of drop-off sites\n",
    "question_seasonal = \"What are the seasonal operation hours of drop-off sites?\"\n",
    "# seasonal hours or changes\n",
    "context_seasonal = \" \".join(data['text'].tolist()[:10]) \n",
    "\n",
    "#context is within the token limit for the model\n",
    "limited_context_seasonal = \" \".join(context_seasonal.split()[:4000])\n",
    "\n",
    "# Response based on the provided context\n",
    "response_seasonal = get_chatbot_response(question_seasonal, limited_context_seasonal)\n",
    "print(f\"Question: {question_seasonal}\\nResponse: {response_seasonal}\\n\")"
   ]
  },
  {
   "cell_type": "code",
   "execution_count": 8,
   "id": "bd7a093b",
   "metadata": {},
   "outputs": [],
   "source": [
    "# without using the context\n",
    "basic_query = basic_response(question_seasonal)"
   ]
  },
  {
   "cell_type": "code",
   "execution_count": 9,
   "id": "697112f4",
   "metadata": {},
   "outputs": [
    {
     "data": {
      "text/plain": [
       "'The seasonal operation hours of drop-off sites vary depending on the location and the type of site. Some drop-off sites may have limited hours during certain seasons, while others may have extended hours. It is best to check with the specific drop-off site for their current seasonal operation hours.'"
      ]
     },
     "execution_count": 9,
     "metadata": {},
     "output_type": "execute_result"
    }
   ],
   "source": [
    "#Result without using context\n",
    "basic_query"
   ]
  },
  {
   "cell_type": "markdown",
   "id": "6e86e37c",
   "metadata": {},
   "source": [
    "### Question 2"
   ]
  },
  {
   "cell_type": "code",
   "execution_count": 10,
   "id": "6f646989",
   "metadata": {},
   "outputs": [
    {
     "name": "stdout",
     "output_type": "stream",
     "text": [
      "Question: Which drop-off sites are open on the weekend?\n",
      "Response: The drop-off sites at South Beach, SE Corner of Broadway & Academy Street, Old Stone House Brooklyn, SE Corner of Pleasant Avenue & E 116 Street, Astoria Pug: 41st Street, SE Corner of Kings College Place & Gun Hill Rd., NW Corner of Malcolm X Boulevard & Bainbridge Street, Astoria Pug: Broadway, and SE Corner of Eastburn Avenue & East 174th Street are open on the weekends.\n",
      "\n"
     ]
    }
   ],
   "source": [
    "# Drop-off sites open on weekends\n",
    "question_weekend = \"Which drop-off sites are open on the weekend?\"\n",
    "#information about operation hours that can indicate weekend availability\n",
    "\n",
    "context_weekend = \" \".join(data['text'].tolist()[:10])  \n",
    "limited_context_weekend = \" \".join(context_weekend.split()[:4000])\n",
    "\n",
    "response_weekend = get_chatbot_response(question_weekend, limited_context_weekend)\n",
    "print(f\"Question: {question_weekend}\\nResponse: {response_weekend}\\n\")\n"
   ]
  },
  {
   "cell_type": "code",
   "execution_count": 11,
   "id": "11c07a54",
   "metadata": {},
   "outputs": [],
   "source": [
    "# basic reponse without using context from our dataset\n",
    "basic_query = basic_response(question_weekend)"
   ]
  },
  {
   "cell_type": "code",
   "execution_count": 12,
   "id": "626231c7",
   "metadata": {},
   "outputs": [
    {
     "data": {
      "text/plain": [
       "'Please provide more information about the specific drop-off sites in question. Without this information, it is not possible to determine which sites are open on the weekend.'"
      ]
     },
     "execution_count": 12,
     "metadata": {},
     "output_type": "execute_result"
    }
   ],
   "source": [
    "#Result\n",
    "basic_query"
   ]
  }
 ],
 "metadata": {
  "kernelspec": {
   "display_name": "Python 3 (ipykernel)",
   "language": "python",
   "name": "python3"
  },
  "language_info": {
   "codemirror_mode": {
    "name": "ipython",
    "version": 3
   },
   "file_extension": ".py",
   "mimetype": "text/x-python",
   "name": "python",
   "nbconvert_exporter": "python",
   "pygments_lexer": "ipython3",
   "version": "3.9.18"
  }
 },
 "nbformat": 4,
 "nbformat_minor": 5
}
